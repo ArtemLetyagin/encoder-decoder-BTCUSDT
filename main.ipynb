{
 "cells": [
  {
   "cell_type": "code",
   "execution_count": 68,
   "id": "26bc188a-30ca-4f60-8c14-3dd104ac10de",
   "metadata": {},
   "outputs": [],
   "source": [
    "import pandas as pd\n",
    "import matplotlib.pyplot as plt\n",
    "import matplotlib.patches as patches\n",
    "from matplotlib import colors as mcolors\n",
    "from sklearn.model_selection import train_test_split\n",
    "from sklearn.preprocessing import MinMaxScaler\n",
    "import random\n",
    "import torch\n",
    "import torch.nn as nn\n",
    "from torch.utils.data import Dataset, DataLoader\n",
    "import numpy as np\n",
    "from tqdm import tqdm"
   ]
  },
  {
   "attachments": {},
   "cell_type": "markdown",
   "id": "33cac095-09f3-4c74-885d-213ebc1f9fdf",
   "metadata": {},
   "source": [
    "## 1. Proposed algorithm\n",
    "\n",
    "The essence of the algorithm is to replace the price of a cryptocurrency with one of the words (top, bot, const), depending on the position relative to the average price. Thus, the time series of prices will be converted into tokens, ready for LLM training. A detailed description of the algorithm is given below:"
   ]
  },
  {
   "cell_type": "code",
   "execution_count": 3,
   "id": "2a8b6049-9f1c-4d44-b01a-898b3c363096",
   "metadata": {},
   "outputs": [],
   "source": [
    "# timeframe - 1h\n",
    "df = pd.read_csv(\"BTCUSDT-1h.csv\")"
   ]
  },
  {
   "cell_type": "code",
   "execution_count": 4,
   "id": "7ca2a6b0-158b-4d9c-9131-d5d2ab8f75e5",
   "metadata": {},
   "outputs": [
    {
     "data": {
      "text/html": [
       "<div>\n",
       "<style scoped>\n",
       "    .dataframe tbody tr th:only-of-type {\n",
       "        vertical-align: middle;\n",
       "    }\n",
       "\n",
       "    .dataframe tbody tr th {\n",
       "        vertical-align: top;\n",
       "    }\n",
       "\n",
       "    .dataframe thead th {\n",
       "        text-align: right;\n",
       "    }\n",
       "</style>\n",
       "<table border=\"1\" class=\"dataframe\">\n",
       "  <thead>\n",
       "    <tr style=\"text-align: right;\">\n",
       "      <th></th>\n",
       "      <th>open_time</th>\n",
       "      <th>open</th>\n",
       "      <th>high</th>\n",
       "      <th>low</th>\n",
       "      <th>close</th>\n",
       "      <th>volume</th>\n",
       "      <th>num_trades</th>\n",
       "      <th>taker_base_vol</th>\n",
       "    </tr>\n",
       "  </thead>\n",
       "  <tbody>\n",
       "    <tr>\n",
       "      <th>0</th>\n",
       "      <td>1502942400000</td>\n",
       "      <td>4261.48</td>\n",
       "      <td>4313.62</td>\n",
       "      <td>4261.32</td>\n",
       "      <td>4308.83</td>\n",
       "      <td>47.181009</td>\n",
       "      <td>171</td>\n",
       "      <td>35.160503</td>\n",
       "    </tr>\n",
       "    <tr>\n",
       "      <th>1</th>\n",
       "      <td>1502946000000</td>\n",
       "      <td>4308.83</td>\n",
       "      <td>4328.69</td>\n",
       "      <td>4291.37</td>\n",
       "      <td>4315.32</td>\n",
       "      <td>23.234916</td>\n",
       "      <td>102</td>\n",
       "      <td>21.448071</td>\n",
       "    </tr>\n",
       "    <tr>\n",
       "      <th>2</th>\n",
       "      <td>1502949600000</td>\n",
       "      <td>4330.29</td>\n",
       "      <td>4345.45</td>\n",
       "      <td>4309.37</td>\n",
       "      <td>4324.35</td>\n",
       "      <td>7.229691</td>\n",
       "      <td>36</td>\n",
       "      <td>4.802861</td>\n",
       "    </tr>\n",
       "    <tr>\n",
       "      <th>3</th>\n",
       "      <td>1502953200000</td>\n",
       "      <td>4316.62</td>\n",
       "      <td>4349.99</td>\n",
       "      <td>4287.41</td>\n",
       "      <td>4349.99</td>\n",
       "      <td>4.443249</td>\n",
       "      <td>25</td>\n",
       "      <td>2.602292</td>\n",
       "    </tr>\n",
       "    <tr>\n",
       "      <th>4</th>\n",
       "      <td>1502956800000</td>\n",
       "      <td>4333.32</td>\n",
       "      <td>4377.85</td>\n",
       "      <td>4333.32</td>\n",
       "      <td>4360.69</td>\n",
       "      <td>0.972807</td>\n",
       "      <td>28</td>\n",
       "      <td>0.814655</td>\n",
       "    </tr>\n",
       "  </tbody>\n",
       "</table>\n",
       "</div>"
      ],
      "text/plain": [
       "       open_time     open     high      low    close     volume  num_trades  \\\n",
       "0  1502942400000  4261.48  4313.62  4261.32  4308.83  47.181009         171   \n",
       "1  1502946000000  4308.83  4328.69  4291.37  4315.32  23.234916         102   \n",
       "2  1502949600000  4330.29  4345.45  4309.37  4324.35   7.229691          36   \n",
       "3  1502953200000  4316.62  4349.99  4287.41  4349.99   4.443249          25   \n",
       "4  1502956800000  4333.32  4377.85  4333.32  4360.69   0.972807          28   \n",
       "\n",
       "   taker_base_vol  \n",
       "0       35.160503  \n",
       "1       21.448071  \n",
       "2        4.802861  \n",
       "3        2.602292  \n",
       "4        0.814655  "
      ]
     },
     "execution_count": 4,
     "metadata": {},
     "output_type": "execute_result"
    }
   ],
   "source": [
    "df.head()"
   ]
  },
  {
   "cell_type": "code",
   "execution_count": 5,
   "id": "c6335693-0d3a-4d74-bb19-ba04f27b14b4",
   "metadata": {},
   "outputs": [
    {
     "name": "stdout",
     "output_type": "stream",
     "text": [
      "Sample length: 43\n"
     ]
    }
   ],
   "source": [
    "# Let's define a random series of opening prices for cryptocurrencies\n",
    "klines_open_price = df[\"open\"].to_numpy()\n",
    "\n",
    "# Define two variables\n",
    "DATA_LEN = 40\n",
    "TAIL_LEN = 3\n",
    "EPSILON = 50\n",
    "\n",
    "# Take the random sample of time series\n",
    "i = random.randint(0, len(klines_open_price)-(DATA_LEN + TAIL_LEN))\n",
    "sample = klines_open_price[i: i + DATA_LEN + TAIL_LEN]\n",
    "print(\"Sample length:\", len(sample))"
   ]
  },
  {
   "cell_type": "code",
   "execution_count": 6,
   "id": "eeed987f-4bda-4033-b49f-ccad26c91006",
   "metadata": {},
   "outputs": [
    {
     "name": "stdout",
     "output_type": "stream",
     "text": [
      "Data length: 40\n",
      "Tail length: 3\n"
     ]
    }
   ],
   "source": [
    "# split sample into data and tail\n",
    "data, tail = sample[:DATA_LEN], sample[-TAIL_LEN:]\n",
    "print(\"Data length:\", len(data))\n",
    "print(\"Tail length:\", len(tail))\n",
    "\n",
    "# Finding the mean value of data\n",
    "mean = np.mean(data)"
   ]
  },
  {
   "cell_type": "code",
   "execution_count": 7,
   "id": "765eef96-ffca-436d-b687-47b4639cff13",
   "metadata": {},
   "outputs": [
    {
     "name": "stdout",
     "output_type": "stream",
     "text": [
      "Tokens X length: 40\n",
      "Tokens Y length: 3 \n",
      "\n",
      "Tokens X: ['top', 'top', 'top', 'top', 'top', 'top', 'top', 'top', 'top', 'top', 'top', 'top', 'top', 'top', 'top', 'top', 'top', 'top', 'top', 'top', 'top', 'top', 'top', 'bot', 'bot', 'bot', 'bot', 'bot', 'bot', 'bot', 'bot', 'bot', 'bot', 'bot', 'bot', 'bot', 'bot', 'bot', 'bot', 'bot'] \n",
      "\n",
      "Tokens Y: ['bot', 'bot', 'bot']\n"
     ]
    }
   ],
   "source": [
    "tokens = []\n",
    "\n",
    "for price in sample:\n",
    "    if np.abs(price - mean) < EPSILON:\n",
    "        tokens.append(\"const\")\n",
    "    elif price < mean:\n",
    "        tokens.append(\"bot\")\n",
    "    elif price > mean:\n",
    "        tokens.append(\"top\")\n",
    "\n",
    "tokens_x = tokens[:DATA_LEN]\n",
    "tokens_y = tokens[-TAIL_LEN:]\n",
    "\n",
    "print(\"Tokens X length:\", len(tokens_x))\n",
    "print(\"Tokens Y length:\", len(tokens_y), '\\n')\n",
    "\n",
    "print(\"Tokens X:\", tokens_x, '\\n')\n",
    "print(\"Tokens Y:\", tokens_y)"
   ]
  },
  {
   "cell_type": "code",
   "execution_count": 8,
   "id": "5318ecc1-7c88-4580-b07c-b5009f1551b7",
   "metadata": {},
   "outputs": [],
   "source": [
    "def draw_price_transform(sample, tokens, mean):\n",
    "\n",
    "    replacements = {\"bot\": 0, \"const\": 1, \"top\": 2}\n",
    "    replacer = replacements.get  # For faster gets.\n",
    "\n",
    "    mask = [replacements[token] for token in tokens]\n",
    "    \n",
    "    colors = [(255,0,0),  (0,255,0)]\n",
    "    gradient = mcolors.LinearSegmentedColormap.from_list('custom_gradient', colors)\n",
    "    gradient_list = np.array(mask).reshape(1,-1)\n",
    "    \n",
    "    fig, axs = plt.subplots(1, figsize=(10,5), frameon=False)\n",
    "    \n",
    "    axs.set_ylim(sample.min()-100, sample.max()+100)\n",
    "    axs.plot(sample, label='Original data')\n",
    "    axs.plot([DATA_LEN, DATA_LEN], [sample.min(), sample.max()], '--', label='Line of train and test split')\n",
    "    axs.plot([0, DATA_LEN + TAIL_LEN], [mean, mean], c='r', label='Mean value of train part')\n",
    "\n",
    "    \n",
    "    axs.imshow(gradient_list, aspect='auto', cmap=gradient, extent=(0, len(mask), axs.get_ylim()[0], axs.get_ylim()[1]), alpha=0.25)\n",
    "    plt.legend()\n",
    "    plt.show()"
   ]
  },
  {
   "cell_type": "code",
   "execution_count": 9,
   "id": "b9748b53-d6c7-4f14-b8e5-be48fd01990b",
   "metadata": {},
   "outputs": [
    {
     "data": {
      "image/png": "[encoded data removed]",
      "text/plain": [
       "<Figure size 1000x500 with 1 Axes>"
      ]
     },
     "metadata": {},
     "output_type": "display_data"
    }
   ],
   "source": [
    "draw_price_transform(sample, tokens, mean)"
   ]
  },
  {
   "cell_type": "markdown",
   "id": "8e1d08b7-e089-4143-bef8-83c2cd45a089",
   "metadata": {},
   "source": [
    "1. **Green color** - the price is above average\n",
    "2. **Red color** - the price is below average\n",
    "3. **Yellow color** - price in the vicinity of the average"
   ]
  },
  {
   "cell_type": "markdown",
   "id": "36a44b18-206a-46c5-80d9-2c4052aff283",
   "metadata": {},
   "source": [
    "# 2. Practical part"
   ]
  },
  {
   "cell_type": "markdown",
   "id": "22792bc1-abcc-464b-a128-496b8735669c",
   "metadata": {},
   "source": [
    "## 2.1 Load data"
   ]
  },
  {
   "cell_type": "code",
   "execution_count": 10,
   "id": "964e7535-06e9-45b0-abb1-7ed04804846d",
   "metadata": {},
   "outputs": [],
   "source": [
    "# timeframe - 1h\n",
    "df = pd.read_csv(\"BTCUSDT-1h.csv\")"
   ]
  },
  {
   "cell_type": "code",
   "execution_count": 11,
   "id": "64196601-77c1-4fe8-b3f4-f64d5b30ae3e",
   "metadata": {},
   "outputs": [
    {
     "data": {
      "text/html": [
       "<div>\n",
       "<style scoped>\n",
       "    .dataframe tbody tr th:only-of-type {\n",
       "        vertical-align: middle;\n",
       "    }\n",
       "\n",
       "    .dataframe tbody tr th {\n",
       "        vertical-align: top;\n",
       "    }\n",
       "\n",
       "    .dataframe thead th {\n",
       "        text-align: right;\n",
       "    }\n",
       "</style>\n",
       "<table border=\"1\" class=\"dataframe\">\n",
       "  <thead>\n",
       "    <tr style=\"text-align: right;\">\n",
       "      <th></th>\n",
       "      <th>open_time</th>\n",
       "      <th>open</th>\n",
       "      <th>high</th>\n",
       "      <th>low</th>\n",
       "      <th>close</th>\n",
       "      <th>volume</th>\n",
       "      <th>num_trades</th>\n",
       "      <th>taker_base_vol</th>\n",
       "    </tr>\n",
       "  </thead>\n",
       "  <tbody>\n",
       "    <tr>\n",
       "      <th>0</th>\n",
       "      <td>1502942400000</td>\n",
       "      <td>4261.48</td>\n",
       "      <td>4313.62</td>\n",
       "      <td>4261.32</td>\n",
       "      <td>4308.83</td>\n",
       "      <td>47.181009</td>\n",
       "      <td>171</td>\n",
       "      <td>35.160503</td>\n",
       "    </tr>\n",
       "    <tr>\n",
       "      <th>1</th>\n",
       "      <td>1502946000000</td>\n",
       "      <td>4308.83</td>\n",
       "      <td>4328.69</td>\n",
       "      <td>4291.37</td>\n",
       "      <td>4315.32</td>\n",
       "      <td>23.234916</td>\n",
       "      <td>102</td>\n",
       "      <td>21.448071</td>\n",
       "    </tr>\n",
       "    <tr>\n",
       "      <th>2</th>\n",
       "      <td>1502949600000</td>\n",
       "      <td>4330.29</td>\n",
       "      <td>4345.45</td>\n",
       "      <td>4309.37</td>\n",
       "      <td>4324.35</td>\n",
       "      <td>7.229691</td>\n",
       "      <td>36</td>\n",
       "      <td>4.802861</td>\n",
       "    </tr>\n",
       "    <tr>\n",
       "      <th>3</th>\n",
       "      <td>1502953200000</td>\n",
       "      <td>4316.62</td>\n",
       "      <td>4349.99</td>\n",
       "      <td>4287.41</td>\n",
       "      <td>4349.99</td>\n",
       "      <td>4.443249</td>\n",
       "      <td>25</td>\n",
       "      <td>2.602292</td>\n",
       "    </tr>\n",
       "    <tr>\n",
       "      <th>4</th>\n",
       "      <td>1502956800000</td>\n",
       "      <td>4333.32</td>\n",
       "      <td>4377.85</td>\n",
       "      <td>4333.32</td>\n",
       "      <td>4360.69</td>\n",
       "      <td>0.972807</td>\n",
       "      <td>28</td>\n",
       "      <td>0.814655</td>\n",
       "    </tr>\n",
       "  </tbody>\n",
       "</table>\n",
       "</div>"
      ],
      "text/plain": [
       "       open_time     open     high      low    close     volume  num_trades  \\\n",
       "0  1502942400000  4261.48  4313.62  4261.32  4308.83  47.181009         171   \n",
       "1  1502946000000  4308.83  4328.69  4291.37  4315.32  23.234916         102   \n",
       "2  1502949600000  4330.29  4345.45  4309.37  4324.35   7.229691          36   \n",
       "3  1502953200000  4316.62  4349.99  4287.41  4349.99   4.443249          25   \n",
       "4  1502956800000  4333.32  4377.85  4333.32  4360.69   0.972807          28   \n",
       "\n",
       "   taker_base_vol  \n",
       "0       35.160503  \n",
       "1       21.448071  \n",
       "2        4.802861  \n",
       "3        2.602292  \n",
       "4        0.814655  "
      ]
     },
     "execution_count": 11,
     "metadata": {},
     "output_type": "execute_result"
    }
   ],
   "source": [
    "# Data illustration\n",
    "df.head()"
   ]
  },
  {
   "cell_type": "code",
   "execution_count": 114,
   "id": "b5071b32-612d-45ef-88ff-3fa687b3a013",
   "metadata": {},
   "outputs": [
    {
     "name": "stdout",
     "output_type": "stream",
     "text": [
      "X_train shape: (41940, 8)\n",
      "X_test  shape: (13981, 8)\n"
     ]
    }
   ],
   "source": [
    "# Split for train and test part\n",
    "X_train = df[:int(df.shape[0]*0.75)]\n",
    "X_test  = df[int(df.shape[0]*0.75):].reset_index(drop=True)\n",
    "print(\"X_train shape:\", X_train.shape)\n",
    "print(\"X_test  shape:\", X_test.shape)"
   ]
  },
  {
   "cell_type": "markdown",
   "id": "26be3902-a8fb-4abf-ae4a-55bb9f47932c",
   "metadata": {},
   "source": [
    "## 2.2 klines transformation"
   ]
  },
  {
   "cell_type": "code",
   "execution_count": 16,
   "id": "d3f5025f-1bf5-4e72-a63d-83d350bbe74e",
   "metadata": {},
   "outputs": [],
   "source": [
    "# FUNCTION for data transformation according to the proposed algorithm\n",
    "\n",
    "def transform_klines(klines, data_len, tail_len, epsilon):\n",
    "\n",
    "    # split into data and tail\n",
    "    data, tail = klines[:data_len], klines[-tail_len:]\n",
    "    # find mean value\n",
    "    mean = np.mean(data)\n",
    "\n",
    "    # Run through the data, collecting data on the price position relative to the average\n",
    "    x = []\n",
    "    for point in data:\n",
    "        if np.abs(mean - point) < epsilon:\n",
    "            x.append('const')\n",
    "        elif point < mean:\n",
    "            x.append('bot')\n",
    "        elif point > mean:\n",
    "            x.append('top')\n",
    "\n",
    "    # Run along the tail, collect data on the price position relative to the average\n",
    "    y = []\n",
    "    for point in tail:\n",
    "        if np.abs(mean - point) < epsilon:\n",
    "            y.append('const')\n",
    "        elif point < mean:\n",
    "            y.append('bot')\n",
    "        elif point > mean:\n",
    "            y.append('top')\n",
    "\n",
    "    # Transforms arrays into strings\n",
    "    x = \"<sos> \" + \" \".join(x) + \" <eos>\"\n",
    "    y = \"<sos> \" + \" \".join(y) + \" <eos>\"\n",
    "\n",
    "    return x, y, mean\n",
    "\n",
    "# ФУНКЦИЯ для ТОКЕНИЗАЦИИ текста\n",
    "def embed_string(string):\n",
    "    emb_string = []\n",
    "    for s in string.split(' '):\n",
    "        emb_string.append(VOCABULARY[s])\n",
    "    return emb_string"
   ]
  },
  {
   "cell_type": "markdown",
   "id": "4abc975b-4028-426e-8905-3961e09da841",
   "metadata": {},
   "source": [
    "## 2.3 Init vocabulary for LLM"
   ]
  },
  {
   "cell_type": "code",
   "execution_count": 104,
   "id": "896a17dd-39b0-4994-8935-41a3fb0a8bb5",
   "metadata": {},
   "outputs": [],
   "source": [
    "# Introducing a DICTIONARY for the model (word - number)\n",
    "VOCABULARY = {\n",
    "    '<sos>': 0,\n",
    "    '<eos>': 1,\n",
    "    'bot': 2,\n",
    "    'top': 3,\n",
    "    'const': 4\n",
    "}\n",
    "\n",
    "VOCABULARY_DECODE = {v: k for k, v in VOCABULARY.items()}"
   ]
  },
  {
   "cell_type": "markdown",
   "id": "bc1a71d5-27a8-4b5e-89f5-2c8ebe384c6b",
   "metadata": {},
   "source": [
    "## 2.4 Creating Dataset for LLM"
   ]
  },
  {
   "cell_type": "code",
   "execution_count": 105,
   "id": "79e6b2a3-1e57-4f37-93f1-3c78640e6ba5",
   "metadata": {},
   "outputs": [],
   "source": [
    "class MyDataset(Dataset):\n",
    "    def __init__(self, df, data_len, tail_len, lvl, step=10):\n",
    "        self.X = []\n",
    "        self.Y = []\n",
    "        self.KLINES = []\n",
    "        seq_len = data_len + tail_len\n",
    "        \n",
    "        for i in range(0, df.shape[0] - seq_len - 1, step):\n",
    "            kline_time_series = df['open'][i:i+seq_len].to_numpy()\n",
    "            self.KLINES.append(kline_time_series)\n",
    "            x, y, _ = transform_klines(kline_time_series, data_len, tail_len, lvl)\n",
    "            \n",
    "            if x is not None:\n",
    "                x = embed_string(x)\n",
    "                y = embed_string(y)\n",
    "    \n",
    "                self.X.append(x)\n",
    "                self.Y.append(y)\n",
    "        \n",
    "    def __getitem__(self, idx):\n",
    "        return torch.LongTensor(self.X[idx]), torch.LongTensor(self.Y[idx]), self.KLINES[idx]\n",
    "        \n",
    "    def __len__(self):\n",
    "        return len(self.X)\n",
    "\n",
    "def get_collate_fn():\n",
    "    def collate_fn(batch):\n",
    "        \n",
    "        #nn.utils.rnn.pad_sequence(batch, padding_value=pad_index)\n",
    "        input = [example[0] for example in batch]\n",
    "        target = [example[1] for example in batch]\n",
    "        klines = [example[2] for example in batch]\n",
    "        # input = nn.utils.rnn.pad_sequence(input, padding_value=pad_index)\n",
    "        # target = nn.utils.rnn.pad_sequence(target, padding_value=pad_index)\n",
    "        \n",
    "        return torch.LongTensor(input), torch.LongTensor(target), klines\n",
    "\n",
    "    return collate_fn"
   ]
  },
  {
   "cell_type": "code",
   "execution_count": 107,
   "id": "38873398-c00c-4f15-95a0-8b2bae7886ab",
   "metadata": {},
   "outputs": [
    {
     "name": "stdout",
     "output_type": "stream",
     "text": [
      "Train dataset length: 41896\n",
      "Test  dataset length: 13937\n"
     ]
    }
   ],
   "source": [
    "# CREATING datasets for training and testing the model\n",
    "DATA_LEN = 40\n",
    "TAIL_LEN = 3\n",
    "EPSILON = 10\n",
    "STEP = 1\n",
    "\n",
    "# PyTorch Datasets\n",
    "train_dataset = MyDataset(X_train, DATA_LEN, TAIL_LEN, EPSILON, step=STEP)\n",
    "test_dataset = MyDataset(X_test, DATA_LEN, TAIL_LEN, EPSILON, step=STEP)\n",
    "\n",
    "print(\"Train dataset length:\", len(train_dataset))\n",
    "print(\"Test  dataset length:\", len(test_dataset))\n",
    "\n",
    "# PyTorch DataLoaders\n",
    "train_dataloader = DataLoader(train_dataset, shuffle=True, batch_size=16, collate_fn=get_collate_fn())\n",
    "test_dataloader = DataLoader(test_dataset, shuffle=True, batch_size=16, collate_fn=get_collate_fn())"
   ]
  },
  {
   "cell_type": "code",
   "execution_count": 108,
   "id": "ca9c156e-9c07-4ac5-9141-4d21fdf24203",
   "metadata": {},
   "outputs": [
    {
     "data": {
      "text/plain": [
       "(tensor([0, 3, 3, 4, 3, 3, 3, 3, 4, 3, 3, 3, 3, 3, 2, 2, 2, 2, 2, 2, 2, 2, 2, 2,\n",
       "         2, 2, 3, 2, 2, 2, 2, 3, 3, 3, 3, 3, 3, 3, 3, 3, 3, 1]),\n",
       " tensor([0, 3, 3, 3, 1]))"
      ]
     },
     "execution_count": 108,
     "metadata": {},
     "output_type": "execute_result"
    }
   ],
   "source": [
    "# An example of what the data for the model looks like\n",
    "# As you can see, we have replaced the WORDS with their INDEXES\n",
    "train_dataset[104][:2]"
   ]
  },
  {
   "cell_type": "markdown",
   "id": "58b44667-dd5a-45a2-b0a0-d16e7389e089",
   "metadata": {},
   "source": [
    "## 2.5 LLM architecture"
   ]
  },
  {
   "cell_type": "code",
   "execution_count": 109,
   "id": "62979698-db90-4c8a-b33a-4e89cb2b38c1",
   "metadata": {},
   "outputs": [],
   "source": [
    "class Encoder(nn.Module):\n",
    "    def __init__(self, input_dim, emb_dim, hid_dim, n_layers, dropout):\n",
    "        super().__init__()\n",
    "        \n",
    "        self.hid_dim = hid_dim\n",
    "        self.n_layers = n_layers\n",
    "        \n",
    "        self.embedding = nn.Embedding(input_dim, emb_dim)\n",
    "        \n",
    "        self.rnn = nn.LSTM(emb_dim, hid_dim, n_layers, dropout = dropout)\n",
    "        \n",
    "        self.dropout = nn.Dropout(dropout)\n",
    "        \n",
    "    def forward(self, src):\n",
    "        \n",
    "        #src = [src len, batch size]\n",
    "        \n",
    "        embedded = self.dropout(self.embedding(src))\n",
    "        \n",
    "        #embedded = [src len, batch size, emb dim]\n",
    "        \n",
    "        outputs, (hidden, cell) = self.rnn(embedded)\n",
    "        \n",
    "        #outputs = [src len, batch size, hid dim * n directions]\n",
    "        #hidden = [n layers * n directions, batch size, hid dim]\n",
    "        #cell = [n layers * n directions, batch size, hid dim]\n",
    "        \n",
    "        #outputs are always from the top hidden layer\n",
    "        \n",
    "        return hidden, cell\n",
    "\n",
    "class Decoder(nn.Module):\n",
    "    def __init__(self, output_dim, emb_dim, hid_dim, n_layers, dropout):\n",
    "        super().__init__()\n",
    "        \n",
    "        self.output_dim = output_dim\n",
    "        self.hid_dim = hid_dim\n",
    "        self.n_layers = n_layers\n",
    "        \n",
    "        self.embedding = nn.Embedding(output_dim, emb_dim)#,  padding_idx=pad_idx)\n",
    "        \n",
    "        self.rnn = nn.LSTM(emb_dim, hid_dim, n_layers, dropout = dropout)\n",
    "        \n",
    "        self.fc_out = nn.Linear(hid_dim, output_dim)\n",
    "        \n",
    "        self.dropout = nn.Dropout(dropout)\n",
    "        \n",
    "    def forward(self, input, hidden, cell):\n",
    "        \n",
    "        #input = [batch size]\n",
    "        #hidden = [n layers * n directions, batch size, hid dim]\n",
    "        #cell = [n layers * n directions, batch size, hid dim]\n",
    "        \n",
    "        #n directions in the decoder will both always be 1, therefore:\n",
    "        #hidden = [n layers, batch size, hid dim]\n",
    "        #context = [n layers, batch size, hid dim]\n",
    "        \n",
    "        input = input.unsqueeze(0)\n",
    "        \n",
    "        #input = [1, batch size]\n",
    "        \n",
    "        embedded = self.dropout(self.embedding(input))\n",
    "        \n",
    "        #embedded = [1, batch size, emb dim]\n",
    "                \n",
    "        output, (hidden, cell) = self.rnn(embedded, (hidden, cell))\n",
    "        \n",
    "        #output = [seq len, batch size, hid dim * n directions]\n",
    "        #hidden = [n layers * n directions, batch size, hid dim]\n",
    "        #cell = [n layers * n directions, batch size, hid dim]\n",
    "        \n",
    "        #seq len and n directions will always be 1 in the decoder, therefore:\n",
    "        #output = [1, batch size, hid dim]\n",
    "        #hidden = [n layers, batch size, hid dim]\n",
    "        #cell = [n layers, batch size, hid dim]\n",
    "        \n",
    "        prediction = self.fc_out(output.squeeze(0))\n",
    "        \n",
    "        #prediction = [batch size, output dim]\n",
    "        \n",
    "        return prediction, hidden, cell"
   ]
  },
  {
   "cell_type": "code",
   "execution_count": 110,
   "id": "53d2f134-95e5-43bb-8536-bba26bb04f0b",
   "metadata": {},
   "outputs": [],
   "source": [
    "class Seq2Seq(nn.Module):\n",
    "    def __init__(self, encoder, decoder, device):\n",
    "        super().__init__()\n",
    "        \n",
    "        self.encoder = encoder\n",
    "        self.decoder = decoder\n",
    "        self.device = device\n",
    "        \n",
    "        assert encoder.hid_dim == decoder.hid_dim, \\\n",
    "            \"Hidden dimensions of encoder and decoder must be equal!\"\n",
    "        assert encoder.n_layers == decoder.n_layers, \\\n",
    "            \"Encoder and decoder must have equal number of layers!\"\n",
    "        \n",
    "    def forward(self, src, trg, teacher_forcing_ratio = 0.9):\n",
    "        \n",
    "        #src = [src len, batch size]\n",
    "        #trg = [trg len, batch size]\n",
    "        #teacher_forcing_ratio is probability to use teacher forcing\n",
    "        #e.g. if teacher_forcing_ratio is 0.75 we use ground-truth inputs 75% of the time\n",
    "        \n",
    "        batch_size = trg.shape[1]\n",
    "        trg_len = trg.shape[0]\n",
    "        trg_vocab_size = self.decoder.output_dim\n",
    "        \n",
    "        #tensor to store decoder outputs\n",
    "        outputs = torch.zeros(trg_len, batch_size, trg_vocab_size).to(self.device)\n",
    "        \n",
    "        #last hidden state of the encoder is used as the initial hidden state of the decoder\n",
    "        hidden, cell = self.encoder(src)\n",
    "        \n",
    "        #first input to the decoder is the <sos> tokens\n",
    "        input = trg[0,:]\n",
    "        \n",
    "        for t in range(1, trg_len):\n",
    "            \n",
    "            #insert input token embedding, previous hidden and previous cell states\n",
    "            #receive output tensor (predictions) and new hidden and cell states\n",
    "            output, hidden, cell = self.decoder(input, hidden, cell)\n",
    "            \n",
    "            #place predictions in a tensor holding predictions for each token\n",
    "            outputs[t] = output\n",
    "            \n",
    "            #decide if we are going to use teacher forcing or not\n",
    "            teacher_force = random.random() < teacher_forcing_ratio\n",
    "            \n",
    "            #get the highest predicted token from our predictions\n",
    "            top1 = output.argmax(1) \n",
    "            \n",
    "            #if teacher forcing, use actual next token as next input\n",
    "            #if not, use predicted token\n",
    "            input = trg[t] if teacher_force else top1\n",
    "        \n",
    "        return outputs"
   ]
  },
  {
   "cell_type": "code",
   "execution_count": 51,
   "id": "9342fd64-4280-4ccc-bf22-48afa9f9aceb",
   "metadata": {},
   "outputs": [
    {
     "name": "stdout",
     "output_type": "stream",
     "text": [
      "The model has 414,501 trainable parameters\n"
     ]
    }
   ],
   "source": [
    "# An LLM of the form seq2seq is used for prediction\n",
    "# works on the principle of sequence->sequence\n",
    "\n",
    "# Such models were the first translators of foreign languages,\n",
    "# that is, they do a great job GENERATING string sequences\n",
    "\n",
    "# torch.nn.Embeddings - params\n",
    "INPUT_DIM  = len(VOCABULARY.keys()) # = 5\n",
    "OUTPUT_DIM = len(VOCABULARY.keys()) # = 5\n",
    "ENC_EMB_DIM = 16\n",
    "DEC_EMB_DIM = 16\n",
    "\n",
    "# torch.nn.LSTM - params\n",
    "HID_DIM = 128\n",
    "N_LAYERS = 2\n",
    "\n",
    "# torch.nn.Dropout - params\n",
    "ENC_DROPOUT = 0.5\n",
    "DEC_DROPOUT = 0.5\n",
    "\n",
    "# Creating Encoder and Decoder\n",
    "enc = Encoder(INPUT_DIM, ENC_EMB_DIM, HID_DIM, N_LAYERS, ENC_DROPOUT)\n",
    "dec = Decoder(OUTPUT_DIM, DEC_EMB_DIM, HID_DIM, N_LAYERS, DEC_DROPOUT)\n",
    "\n",
    "# Creating Seq2Seq model\n",
    "device = \"cpu\"\n",
    "model = Seq2Seq(enc, dec, device).to(device)\n",
    "\n",
    "def count_parameters(model):\n",
    "    return sum(p.numel() for p in model.parameters() if p.requires_grad)\n",
    "\n",
    "print(f\"The model has {count_parameters(model):,} trainable parameters\")"
   ]
  },
  {
   "cell_type": "code",
   "execution_count": 53,
   "id": "ffb347f1-e8f9-4ba5-972c-b0c99681f8d7",
   "metadata": {},
   "outputs": [
    {
     "name": "stdout",
     "output_type": "stream",
     "text": [
      "\n"
     ]
    }
   ],
   "source": [
    "# Initializing weights\n",
    "def init_weights(m):\n",
    "    for name, param in m.named_parameters():\n",
    "        nn.init.uniform_(param.data, -0.08, 0.08)\n",
    "        \n",
    "model.apply(init_weights)\n",
    "print()"
   ]
  },
  {
   "cell_type": "markdown",
   "id": "22294851-180a-4fce-987e-542688b3a3f7",
   "metadata": {},
   "source": [
    "## 2.6 Train"
   ]
  },
  {
   "cell_type": "code",
   "execution_count": 55,
   "id": "fb7a330e-3bc6-4b5c-bbe0-f2590d8375c2",
   "metadata": {},
   "outputs": [],
   "source": [
    "# Creating an optimizer and an loss function\n",
    "optimizer = torch.optim.Adam(model.parameters(), lr=0.0001)\n",
    "criterion = nn.CrossEntropyLoss(ignore_index = pad_idx, weight=torch.tensor([0.1, 0.1, 1, 1, 1]))"
   ]
  },
  {
   "cell_type": "code",
   "execution_count": 62,
   "id": "9b720520-f0ac-4ce0-83a5-5370798f6551",
   "metadata": {
    "scrolled": true
   },
   "outputs": [
    {
     "name": "stdout",
     "output_type": "stream",
     "text": [
      "EPOCH -------------------------------  0\n",
      "tensor(1.5945, grad_fn=<NllLossBackward0>)\n",
      "tensor(0.9591, grad_fn=<NllLossBackward0>)\n",
      "tensor(0.8972, grad_fn=<NllLossBackward0>)\n",
      "tensor(0.9526, grad_fn=<NllLossBackward0>)\n",
      "tensor(0.5179, grad_fn=<NllLossBackward0>)\n",
      "tensor(0.5307, grad_fn=<NllLossBackward0>)\n",
      "tensor(0.4027, grad_fn=<NllLossBackward0>)\n",
      "tensor(0.4316, grad_fn=<NllLossBackward0>)\n",
      "tensor(0.7691, grad_fn=<NllLossBackward0>)\n",
      "tensor(0.6960, grad_fn=<NllLossBackward0>)\n",
      "tensor(0.4145, grad_fn=<NllLossBackward0>)\n",
      "tensor(0.3709, grad_fn=<NllLossBackward0>)\n",
      "tensor(0.4747, grad_fn=<NllLossBackward0>)\n",
      "tensor(0.2621, grad_fn=<NllLossBackward0>)\n",
      "tensor(0.6786, grad_fn=<NllLossBackward0>)\n",
      "tensor(0.3841, grad_fn=<NllLossBackward0>)\n",
      "tensor(0.4576, grad_fn=<NllLossBackward0>)\n",
      "tensor(0.3595, grad_fn=<NllLossBackward0>)\n",
      "tensor(0.2839, grad_fn=<NllLossBackward0>)\n",
      "tensor(0.3528, grad_fn=<NllLossBackward0>)\n",
      "tensor(0.1381, grad_fn=<NllLossBackward0>)\n",
      "tensor(0.3519, grad_fn=<NllLossBackward0>)\n",
      "tensor(0.2875, grad_fn=<NllLossBackward0>)\n",
      "tensor(0.2610, grad_fn=<NllLossBackward0>)\n",
      "tensor(0.5128, grad_fn=<NllLossBackward0>)\n",
      "tensor(0.3682, grad_fn=<NllLossBackward0>)\n",
      "tensor(0.5878, grad_fn=<NllLossBackward0>)\n"
     ]
    }
   ],
   "source": [
    "# Training the model\n",
    "model.train()\n",
    "losses = []\n",
    "for ep in range(1):\n",
    "    print(\"EPOCH ------------------------------- \", ep)\n",
    "    for i, batch in enumerate(train_dataloader):\n",
    "        \n",
    "        src, trg, _ = batch\n",
    "        optimizer.zero_grad()\n",
    "        output = model(src, trg)\n",
    "        \n",
    "        output_dim = output.shape[-1]\n",
    "        output = output[1:].view(-1, output_dim)\n",
    "        trg = trg[1:].view(-1)    \n",
    "        loss = criterion(output, trg)\n",
    "        \n",
    "        loss.backward()\n",
    "        \n",
    "        optimizer.step()\n",
    "        losses.append(loss.item())\n",
    "        if i % 100 == 0:\n",
    "            print(loss)\n",
    "            torch.save(model.state_dict(), \"seq2seq.pth\")"
   ]
  },
  {
   "cell_type": "code",
   "execution_count": 63,
   "id": "eaa3803f-d7e7-4bcf-95a1-361f95d77831",
   "metadata": {},
   "outputs": [
    {
     "data": {
      "image/png": "[encoded data removed]",
      "text/plain": [
       "<Figure size 640x480 with 1 Axes>"
      ]
     },
     "metadata": {},
     "output_type": "display_data"
    }
   ],
   "source": [
    "# plot the filtering LOSS\n",
    "means = []\n",
    "for i in range(len(losses)-10):\n",
    "    means.append(np.mean(losses[i: i+10]))\n",
    "plt.plot(means, label=\"Train loss\")\n",
    "plt.grid()\n",
    "plt.xlabel(\"Iteration number\")\n",
    "plt.ylabel(\"Trin loss\")\n",
    "plt.show()"
   ]
  },
  {
   "cell_type": "markdown",
   "id": "0445c9fd-6a4d-43bf-8ef9-58fd0ba19081",
   "metadata": {},
   "source": [
    "## 2.7 Test"
   ]
  },
  {
   "cell_type": "code",
   "execution_count": 101,
   "id": "3e20d9bb-6edf-4c6b-8365-d02e10f2a5b9",
   "metadata": {},
   "outputs": [
    {
     "name": "stderr",
     "output_type": "stream",
     "text": [
      "100%|███████████████████████████████████████████████████████████████████████████████| 872/872 [00:07<00:00, 122.27it/s]"
     ]
    },
    {
     "name": "stdout",
     "output_type": "stream",
     "text": [
      "Accuracy: 90.65 %\n"
     ]
    },
    {
     "name": "stderr",
     "output_type": "stream",
     "text": [
      "\n"
     ]
    }
   ],
   "source": [
    "n_correct = 0\n",
    "n_total = 0\n",
    "for batch in tqdm(test_dataloader):\n",
    "    src, trg, _ = batch\n",
    "    output = model(src, trg, 0)\n",
    "    correct_or_not = (output.argmax(-1) == trg)\n",
    "\n",
    "    n_correct += correct_or_not.sum()\n",
    "    n_total += torch.numel(correct_or_not)\n",
    " \n",
    "print(f\"Accuracy: {n_correct / n_total * 100:.2f} %\")"
   ]
  },
  {
   "cell_type": "markdown",
   "id": "37a0f824-f5c2-451d-89bf-dfa1a29ea281",
   "metadata": {},
   "source": [
    "## 2.8 Test and plot"
   ]
  },
  {
   "cell_type": "code",
   "execution_count": 103,
   "id": "31d379ef-c9f8-4381-b9cb-b664645b3222",
   "metadata": {},
   "outputs": [
    {
     "name": "stdout",
     "output_type": "stream",
     "text": [
      "TARGET: [3, 3, 3]\n",
      "TARGET as string: ['top', 'top', 'top']\n",
      "-------------\n",
      "PRED: [3 3 3]\n",
      "PRED as string: ['top', 'top', 'top']\n",
      "\n",
      "\n"
     ]
    },
    {
     "data": {
      "image/png": "[encoded data removed]",
      "text/plain": [
       "<Figure size 1000x500 with 1 Axes>"
      ]
     },
     "metadata": {},
     "output_type": "display_data"
    }
   ],
   "source": [
    "# Test and plot\n",
    "b = next(iter(train_dataloader))\n",
    "\n",
    "x, y, example_klines = b[0][:, 0].view(-1, 1), b[1][:, 0].view(-1, 1), b[2][0]\n",
    "\n",
    "pred = model(x, y)\n",
    "pred_idx = pred.argmax(-1).view(-1)[1:-1].numpy()\n",
    "y_list = y.view(-1)[1:-1].tolist()\n",
    "\n",
    "print('TARGET:', y_list)\n",
    "print('TARGET as string:', [VOCABULARY_DECODE[n] for n in y_list])\n",
    "print('-------------')\n",
    "print('PRED:', pred_idx)\n",
    "print('PRED as string:', [VOCABULARY_DECODE[n] for n in pred_idx])\n",
    "print(\"\\n\")\n",
    "\n",
    "mean = np.mean(example_klines[:DATA_LEN])\n",
    "\n",
    "\n",
    "fig, axs = plt.subplots(1, figsize=(10,5), frameon=False)\n",
    "\n",
    "axs.set_ylim(example_klines.min()-100, example_klines.max()+100)\n",
    "axs.plot(example_klines, label='Original data')\n",
    "axs.plot([DATA_LEN, DATA_LEN], [example_klines.min(), example_klines.max()], '--', label='Line of train and test split')\n",
    "axs.plot([0, DATA_LEN + TAIL_LEN], [mean, mean], c='r', label='Mean value of train part')\n",
    "\n",
    "for i, l in enumerate(pred_idx):\n",
    "    h = axs.get_ylim()[1] - axs.get_ylim()[0]\n",
    "    # Create a Rectangle patch\n",
    "    if l == 2:\n",
    "        rect = patches.Rectangle((DATA_LEN+i, axs.get_ylim()[0]), 1, h, linewidth=0, facecolor=(1,0,0,0.25))\n",
    "    elif l == 3:\n",
    "        rect = patches.Rectangle((DATA_LEN+i, axs.get_ylim()[0]), 1, h, linewidth=0, facecolor=(0,1,0,0.25))\n",
    "    elif l == 4:\n",
    "        rect = patches.Rectangle((DATA_LEN+i, axs.get_ylim()[0]), 1, h, linewidth=0, facecolor=(1,1,0,0.25))\n",
    "    \n",
    "    # Add the patch to the Axes\n",
    "    axs.add_patch(rect)\n",
    "#axs.imshow(gradient_list, aspect='auto', cmap=gradient, extent=(0, len(mask), axs.get_ylim()[0], axs.get_ylim()[1]), alpha=0.25)\n",
    "plt.legend()\n",
    "plt.show()"
   ]
  },
  {
   "cell_type": "code",
   "execution_count": null,
   "id": "a47249f8-43ff-4657-b955-66e2e3da97e5",
   "metadata": {},
   "outputs": [],
   "source": []
  }
 ],
 "metadata": {
  "kernelspec": {
   "display_name": "Python 3",
   "language": "python",
   "name": "python3"
  },
  "language_info": {
   "codemirror_mode": {
    "name": "ipython",
    "version": 3
   },
   "file_extension": ".py",
   "mimetype": "text/x-python",
   "name": "python",
   "nbconvert_exporter": "python",
   "pygments_lexer": "ipython3",
   "version": "3.8.8"
  }
 },
 "nbformat": 4,
 "nbformat_minor": 5
}
